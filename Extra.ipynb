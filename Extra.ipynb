{
 "cells": [
  {
   "cell_type": "markdown",
   "id": "269b875b",
   "metadata": {},
   "source": [
    "# Дополнительные главы Terminal"
   ]
  },
  {
   "cell_type": "markdown",
   "id": "4c904f52",
   "metadata": {},
   "source": [
    "## Git\n",
    "\n",
    "Для хранения кода проекта над которым работает много людей используют системы контроля версий, позволяющие нескольким людям параллельно изменять файлы проекта и затем соединять изменения. Также спомощью такой системы можно легко перемещаться между версиями кода, например, для отмены изменений, сломавших код. Git &ndash; одна из таких систем. Первым делом, чтобы инициализировать git репозиторий, необходимо создать папку проекта."
   ]
  },
  {
   "cell_type": "code",
   "execution_count": 1,
   "id": "1e4e6153",
   "metadata": {
    "scrolled": true
   },
   "outputs": [
    {
     "name": "stdout",
     "output_type": "stream",
     "text": [
      "Initialized empty Git repository in /mnt/c/Users/sevak/Documents/KLH/Runbook/lesson 2 extra/myProjectFolder/.git/\n",
      "[master (root-commit) bea4c7f] Fixed bugs: ..., Added features ...\n",
      " 1 file changed, 0 insertions(+), 0 deletions(-)\n",
      " create mode 100644 .gitignore\n"
     ]
    }
   ],
   "source": [
    "%%bash\n",
    "\n",
    "mkdir myProjectFolder\n",
    "cd myProjectFolder\n",
    "\n",
    "git init          # инициализирует репозиторий\n",
    "\n",
    "touch .gitignore  # создаёт пустой файл\n",
    "\n",
    "git add .         # добавляет все изменённые файлы из текущей папки в систему версионирования git\n",
    "\n",
    "git commit -m \"Fixed bugs: ..., Added features ...\"  # Фиксирует текущее состояние файлов добавленных в git \n",
    "                                                     #                                              с комментариемb"
   ]
  },
  {
   "cell_type": "markdown",
   "id": "d040b144",
   "metadata": {},
   "source": [
    "Команда `git commit` создаёт \"узелок\" на \"дереве\" разработки &ndash; это \"фотография\" файловой системы, к которой можно откатиться в любой момент."
   ]
  },
  {
   "cell_type": "markdown",
   "id": "c3a8bc6a",
   "metadata": {},
   "source": [
    "![commit](git_commit_2x.png) \n",
    "\n",
    "\n",
    "\n",
    "<center><i>Дерево коммитов</i></center>"
   ]
  },
  {
   "cell_type": "markdown",
   "id": "9c84a5e8",
   "metadata": {},
   "source": [
    "Прежде чем откатиться к конкретному коммиту &ndash; нужно знать его имя."
   ]
  },
  {
   "cell_type": "code",
   "execution_count": 2,
   "id": "f69ac9f1",
   "metadata": {},
   "outputs": [
    {
     "name": "stdout",
     "output_type": "stream",
     "text": [
      "* commit bea4c7f06b053ba97d0d7bc468026f6f05647310\n",
      "  Author: Vsevolod Kabrits <seva.kabrits@gmail.com>\n",
      "  Date:   Sat Jul 27 03:56:48 2024 +0300\n",
      "  \n",
      "      Fixed bugs: ..., Added features ...\n"
     ]
    }
   ],
   "source": [
    "%%bash\n",
    "\n",
    "cd myProjectFolder\n",
    "\n",
    "git log --graph --all  # выводит дерево коммитов, пока их совсем немного"
   ]
  },
  {
   "cell_type": "markdown",
   "id": "96879656",
   "metadata": {},
   "source": [
    "Добавим первый файл:"
   ]
  },
  {
   "cell_type": "code",
   "execution_count": null,
   "id": "41781aec",
   "metadata": {},
   "outputs": [],
   "source": [
    "%%bash\n",
    "\n",
    "cd myProjectFolder\n",
    "\n",
    "                         # обычно в Readme.md файл помещают описание проекта, он написан на языке разметки\n",
    "cat > Readme.md <<\"EOF\"  #                                                           markdown, как jupyter notebook\n",
    "# This is my awsome Project\n",
    "\n",
    "It is created seconds ago, yet has some data in it\n",
    "\n",
    "|        TASK       | STATUS |\n",
    "| ----------------- | ------ |\n",
    "| create repository |  DONE  |\n",
    "EOF\n",
    "\n",
    "git add . && git commit -m \"Added Readme.md\"\n",
    "\n",
    "first_commit=$(git log --oneline | tail -n 1 | awk '{print $1}')  # выводит имя 1 коммита\n",
    "\n",
    "git reset --hard $first_commit                                    # откатывает изменения к 1 коммиту\n",
    "\n",
    "ls\n",
    "\n",
    "git reset --hard HEAD\n",
    "\n",
    "ls"
   ]
  },
  {
   "cell_type": "code",
   "execution_count": null,
   "id": "f4bcb3d7",
   "metadata": {
    "scrolled": true
   },
   "outputs": [],
   "source": [
    "%%bash\n",
    "\n",
    "cd myProjectFolder\n",
    "\n",
    "git reset --hard 'HEAD@{1}'\n",
    "\n",
    "git log --graph --all"
   ]
  },
  {
   "cell_type": "code",
   "execution_count": null,
   "id": "556fb883",
   "metadata": {},
   "outputs": [],
   "source": [
    "%%bash\n",
    "\n"
   ]
  },
  {
   "cell_type": "markdown",
   "id": "fe546051",
   "metadata": {},
   "source": []
  }
 ],
 "metadata": {
  "kernelspec": {
   "display_name": "Python 3 (ipykernel)",
   "language": "python",
   "name": "python3"
  },
  "language_info": {
   "codemirror_mode": {
    "name": "ipython",
    "version": 3
   },
   "file_extension": ".py",
   "mimetype": "text/x-python",
   "name": "python",
   "nbconvert_exporter": "python",
   "pygments_lexer": "ipython3",
   "version": "3.7.9"
  }
 },
 "nbformat": 4,
 "nbformat_minor": 5
}
